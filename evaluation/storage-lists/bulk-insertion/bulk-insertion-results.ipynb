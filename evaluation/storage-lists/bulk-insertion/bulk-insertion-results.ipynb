{
 "cells": [
  {
   "cell_type": "code",
   "execution_count": 1,
   "metadata": {},
   "outputs": [],
   "source": [
    "import matplotlib.pyplot as plt\n",
    "import numpy as np"
   ]
  },
  {
   "attachments": {},
   "cell_type": "markdown",
   "metadata": {},
   "source": [
    "# Bulk insertion"
   ]
  },
  {
   "attachments": {},
   "cell_type": "markdown",
   "metadata": {},
   "source": [
    "## Gathering statistics of some manually measured execution times"
   ]
  },
  {
   "cell_type": "code",
   "execution_count": 2,
   "metadata": {},
   "outputs": [],
   "source": [
    "def get_mean_std(execution_time_minutes : list) -> tuple:\n",
    "    return np.mean(execution_time_minutes), np.std(execution_time_minutes)"
   ]
  },
  {
   "attachments": {},
   "cell_type": "markdown",
   "metadata": {},
   "source": [
    "### SIFT100M (in-memory)"
   ]
  },
  {
   "cell_type": "code",
   "execution_count": 3,
   "metadata": {},
   "outputs": [
    {
     "name": "stdout",
     "output_type": "stream",
     "text": [
      "SIFT100M execution time: 108 +/- 2 minutes\n"
     ]
    }
   ],
   "source": [
    "sift100m_im_mean, sift100m_im_std = get_mean_std([111.387, 105.869])\n",
    "print(\n",
    "    f\"SIFT100M execution time: {int(sift100m_im_mean)} +/- {int(sift100m_im_std)} minutes\")\n"
   ]
  },
  {
   "attachments": {},
   "cell_type": "markdown",
   "metadata": {},
   "source": [
    "### SIFT1B (memory-mapped)"
   ]
  },
  {
   "cell_type": "code",
   "execution_count": 4,
   "metadata": {},
   "outputs": [
    {
     "name": "stdout",
     "output_type": "stream",
     "text": [
      "SIFT1B execution time: 1692 +/- 89 minutes\n"
     ]
    }
   ],
   "source": [
    "sift1b_mm_mean, sift1b_mm_std = get_mean_std([1781.18, 1602.82])\n",
    "print(f\"SIFT1B execution time: {int(sift1b_mm_mean)} +/- {int(sift1b_mm_std)} minutes\")\n"
   ]
  },
  {
   "attachments": {},
   "cell_type": "markdown",
   "metadata": {},
   "source": [
    "## Collecting measurements"
   ]
  },
  {
   "cell_type": "code",
   "execution_count": 5,
   "metadata": {},
   "outputs": [],
   "source": [
    "dataset_sizes = [10**6, 10**7, 10**8, 10**9]\n",
    "mean_execution_time_minutes_in_memory = [1.01849, 10.6334, sift100m_im_mean]\n",
    "std_execution_time_minutes_in_memory = [2.0942 / 60, 4.55587 / 60, sift100m_im_std]\n",
    "mean_execution_time_minutes_memory_mapped = [1.49576, 13.3068, 144.007, sift1b_mm_mean]\n",
    "std_execution_time_minutes_memory_mapped = [7.71382 / 60, 13.2965 / 60, 14.7468, sift1b_mm_std]"
   ]
  },
  {
   "attachments": {},
   "cell_type": "markdown",
   "metadata": {},
   "source": [
    "## I/O throughput"
   ]
  },
  {
   "cell_type": "code",
   "execution_count": 6,
   "metadata": {},
   "outputs": [],
   "source": [
    "def get_throughput(n_entries, execution_time_minutes):\n",
    "    vector_bytes = 128 * 4\n",
    "    vector_id_bytes = 8\n",
    "    list_id_bytes = 8\n",
    "    data_per_entry_bytes = vector_bytes + vector_id_bytes + list_id_bytes\n",
    "    total_data_read_written_bytes = n_entries * data_per_entry_bytes\n",
    "    total_data_mb = total_data_read_written_bytes // 10 ** 6\n",
    "    throughput = total_data_mb / (execution_time_minutes * 60)\n",
    "    return throughput\n"
   ]
  },
  {
   "attachments": {},
   "cell_type": "markdown",
   "metadata": {},
   "source": [
    "### In-memory"
   ]
  },
  {
   "cell_type": "code",
   "execution_count": 7,
   "metadata": {},
   "outputs": [
    {
     "name": "stdout",
     "output_type": "stream",
     "text": [
      "Throughput for 1M entries: 8.6 MB/s\n",
      "Throughput for 10M entries: 8.3 MB/s\n",
      "Throughput for 100M entries: 8.1 MB/s\n"
     ]
    }
   ],
   "source": [
    "for dataset_size, mean in zip(dataset_sizes, mean_execution_time_minutes_in_memory):\n",
    "    mean_throughput = get_throughput(dataset_size, mean)\n",
    "    print(f\"Throughput for {dataset_size // 10**6}M entries: {round(mean_throughput, 1)} MB/s\")\n",
    "mean_throughputs_in_memory = [get_throughput(dataset_size, mean) for dataset_size, mean in zip(dataset_sizes, mean_execution_time_minutes_in_memory)]"
   ]
  },
  {
   "attachments": {},
   "cell_type": "markdown",
   "metadata": {},
   "source": [
    "### Memory-mapped"
   ]
  },
  {
   "cell_type": "code",
   "execution_count": 8,
   "metadata": {},
   "outputs": [
    {
     "name": "stdout",
     "output_type": "stream",
     "text": [
      "Throughput for 1M entries: 5.9 MB/s\n",
      "Throughput for 10M entries: 6.6 MB/s\n",
      "Throughput for 100M entries: 6.1 MB/s\n",
      "Throughput for 1000M entries: 5.2 MB/s\n"
     ]
    }
   ],
   "source": [
    "for dataset_size, mean in zip(\n",
    "    dataset_sizes, mean_execution_time_minutes_memory_mapped\n",
    "):\n",
    "    mean_throughput = get_throughput(dataset_size, mean)\n",
    "    print(f\"Throughput for {dataset_size // 10**6}M entries: {round(mean_throughput, 1)} MB/s\")\n",
    "mean_throughputs_memory_mapped = [get_throughput(dataset_size, mean) for dataset_size, mean in zip(dataset_sizes, mean_execution_time_minutes_memory_mapped)]"
   ]
  },
  {
   "attachments": {},
   "cell_type": "markdown",
   "metadata": {},
   "source": [
    "### Plotting I/O throughput"
   ]
  },
  {
   "cell_type": "code",
   "execution_count": 17,
   "metadata": {},
   "outputs": [
    {
     "data": {
      "image/png": "[encoded data removed]",
      "text/plain": [
       "<Figure size 432x288 with 1 Axes>"
      ]
     },
     "metadata": {
      "needs_background": "light"
     },
     "output_type": "display_data"
    }
   ],
   "source": [
    "plt.subplots(tight_layout=True)\n",
    "plt.plot(\n",
    "    dataset_sizes,\n",
    "    mean_throughputs_memory_mapped,\n",
    "    label=\"Memory-mapped dataset\",\n",
    "    marker=\"o\",\n",
    ")\n",
    "plt.plot(\n",
    "    dataset_sizes[:-1],\n",
    "    mean_throughputs_in_memory,\n",
    "    label=\"In-memory dataset\",\n",
    "    marker=\"^\",\n",
    ")\n",
    "plt.title('Bulk insertion: I/O throughput')\n",
    "plt.xscale(\"log\")\n",
    "plt.xlabel(\"Number of vectors\")\n",
    "plt.ylabel(\"Throughput (MB/s)\")\n",
    "plt.axhline(y=213.1, color=\"r\", linestyle=\"dotted\", label=\"I/O bound\")\n",
    "plt.ylim(bottom=0)\n",
    "plt.legend()\n",
    "plt.savefig('bulk-insertion-io-throughput.jpg', dpi=300)\n",
    "plt.show()\n"
   ]
  },
  {
   "attachments": {},
   "cell_type": "markdown",
   "metadata": {},
   "source": [
    "## Overhead of memory mapping"
   ]
  },
  {
   "cell_type": "code",
   "execution_count": 18,
   "metadata": {},
   "outputs": [
    {
     "name": "stdout",
     "output_type": "stream",
     "text": [
      "Overhead of Memory Mapping: 1.35 +/- 0.09\n"
     ]
    }
   ],
   "source": [
    "\n",
    "overhead = np.array(mean_execution_time_minutes_memory_mapped[:-1]) / np.array(mean_execution_time_minutes_in_memory)\n",
    "mean = np.mean(overhead)\n",
    "std = np.std(overhead)\n",
    "print(f\"Overhead of Memory Mapping: {round(mean, 2)} +/- {round(std, 2)}\")"
   ]
  },
  {
   "attachments": {},
   "cell_type": "markdown",
   "metadata": {},
   "source": [
    "## Plotting bulk insertion execution time vs #vectors inserted"
   ]
  },
  {
   "cell_type": "code",
   "execution_count": 19,
   "metadata": {},
   "outputs": [
    {
     "data": {
      "image/png": "[encoded data removed]",
      "text/plain": [
       "<Figure size 432x288 with 1 Axes>"
      ]
     },
     "metadata": {
      "needs_background": "light"
     },
     "output_type": "display_data"
    }
   ],
   "source": [
    "mm_bar = plt.errorbar(dataset_sizes, mean_execution_time_minutes_memory_mapped, yerr=std_execution_time_minutes_memory_mapped, label='Memory-mapped dataset',  marker='o', markersize=10, capsize=8)\n",
    "im_bar = plt.errorbar(dataset_sizes[:-1], mean_execution_time_minutes_in_memory, yerr=std_execution_time_minutes_in_memory, label='In-memory dataset', marker='^', markersize=10, capsize=8)\n",
    "lin_bar = plt.plot(dataset_sizes, [x / 10**6 for x in dataset_sizes], color='red', linestyle='dotted', label='1M vectors per min')\n",
    "plt.title('Bulk insertion: execution time')\n",
    "plt.loglog()\n",
    "plt.xlabel('Number of vectors')\n",
    "plt.ylabel('Insertion time (mins)')\n",
    "plt.legend(handles=[mm_bar, im_bar, lin_bar[0]])\n",
    "plt.savefig('bulk-insertion-execution-time.jpg', dpi=300)\n",
    "plt.show()\n"
   ]
  },
  {
   "cell_type": "code",
   "execution_count": 20,
   "metadata": {},
   "outputs": [
    {
     "data": {
      "text/plain": [
       "(671140.9395973154, 588235.2941176471)"
      ]
     },
     "execution_count": 20,
     "metadata": {},
     "output_type": "execute_result"
    }
   ],
   "source": [
    "10**6 / 1.49, 10**9 / 1700"
   ]
  }
 ],
 "metadata": {
  "kernelspec": {
   "display_name": "Python 3",
   "language": "python",
   "name": "python3"
  },
  "language_info": {
   "codemirror_mode": {
    "name": "ipython",
    "version": 3
   },
   "file_extension": ".py",
   "mimetype": "text/x-python",
   "name": "python",
   "nbconvert_exporter": "python",
   "pygments_lexer": "ipython3",
   "version": "3.10.6 (main, Nov 14 2022, 16:10:14) [GCC 11.3.0]"
  },
  "orig_nbformat": 4,
  "vscode": {
   "interpreter": {
    "hash": "916dbcbb3f70747c44a77c7bcd40155683ae19c65e1c03b4aa3499c5328201f1"
   }
  }
 },
 "nbformat": 4,
 "nbformat_minor": 2
}
